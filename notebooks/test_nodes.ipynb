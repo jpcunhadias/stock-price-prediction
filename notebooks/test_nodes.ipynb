{
 "cells": [
  {
   "cell_type": "code",
   "id": "initial_id",
   "metadata": {
    "collapsed": true,
    "ExecuteTime": {
     "end_time": "2025-02-18T02:50:25.490997Z",
     "start_time": "2025-02-18T02:50:23.747567Z"
    }
   },
   "source": [
    "import boto3\n",
    "from botocore.exceptions import NoCredentialsError, ClientError\n",
    "\n",
    "# ✅ Set your S3 bucket and file details\n",
    "S3_BUCKET = \"stock-prediction-tech-challenge\"  # Replace with your actual bucket name\n",
    "S3_KEY = \"data/06_models/lstm_model.h5\"  # File name in S3\n",
    "LOCAL_FILE = \"../data/06_models/lstm_model.h5\"  # Local test file\n",
    "\n",
    "# ✅ Create a test file\n",
    "with open(LOCAL_FILE, \"w\") as f:\n",
    "    f.write(\"This is a test file for S3 upload.\")\n",
    "\n",
    "# ✅ Initialize S3 client\n",
    "s3 = boto3.client(\"s3\")\n",
    "\n",
    "def test_s3_upload():\n",
    "    try:\n",
    "        # ✅ Upload file to S3\n",
    "        s3.upload_file(LOCAL_FILE, S3_BUCKET, S3_KEY)\n",
    "        print(f\"✅ File successfully uploaded to s3://{S3_BUCKET}/{S3_KEY}\")\n",
    "\n",
    "        # ✅ Verify the file exists in S3\n",
    "        response = s3.head_object(Bucket=S3_BUCKET, Key=S3_KEY)\n",
    "        print(f\"✅ File exists in S3. Size: {response['ContentLength']} bytes\")\n",
    "\n",
    "    except NoCredentialsError:\n",
    "        print(\"❌ AWS credentials not found. Run `aws configure`.\")\n",
    "    except ClientError as e:\n",
    "        print(f\"❌ AWS Client Error: {e}\")\n",
    "    except Exception as e:\n",
    "        print(f\"❌ Unexpected error: {e}\")\n",
    "\n",
    "# ✅ Run the test\n",
    "test_s3_upload()\n"
   ],
   "outputs": [
    {
     "name": "stdout",
     "output_type": "stream",
     "text": [
      "✅ File successfully uploaded to s3://stock-prediction-tech-challenge/data/06_models/lstm_model.h5\n",
      "✅ File exists in S3. Size: 34 bytes\n"
     ]
    }
   ],
   "execution_count": 6
  },
  {
   "metadata": {
    "ExecuteTime": {
     "end_time": "2025-02-18T03:01:52.506646Z",
     "start_time": "2025-02-18T03:01:45.002060Z"
    }
   },
   "cell_type": "code",
   "source": [
    "import boto3\n",
    "import pickle\n",
    "from tensorflow.keras.models import load_model\n",
    "\n",
    "# Define your bucket and S3 keys\n",
    "bucket_name = \"stock-prediction-tech-challenge\"\n",
    "model_s3_key = \"data/06_models/lstm_model.keras\"\n",
    "scaler_s3_key = \"data/06_models/scaler.pkl\"\n",
    "\n",
    "# Local paths where the files will be saved\n",
    "local_model_path = \"lstm_model.keras\"\n",
    "local_scaler_path = \"scaler.pkl\"\n",
    "\n",
    "# Create a boto3 S3 client\n",
    "s3_client = boto3.client(\"s3\")\n",
    "\n",
    "# Download the model file from S3\n",
    "try:\n",
    "    s3_client.download_file(bucket_name, model_s3_key, local_model_path)\n",
    "    print(f\"Downloaded model to {local_model_path}\")\n",
    "except Exception as e:\n",
    "    print(f\"Error downloading model file: {e}\")\n",
    "    raise\n",
    "\n",
    "# Download the scaler file from S3\n",
    "try:\n",
    "    s3_client.download_file(bucket_name, scaler_s3_key, local_scaler_path)\n",
    "    print(f\"Downloaded scaler to {local_scaler_path}\")\n",
    "except Exception as e:\n",
    "    print(f\"Error downloading scaler file: {e}\")\n",
    "    raise\n",
    "\n",
    "# Load the model using Keras\n",
    "try:\n",
    "    model = load_model(local_model_path)\n",
    "    print(\"Model loaded successfully.\")\n",
    "except Exception as e:\n",
    "    print(f\"Error loading model: {e}\")\n",
    "    raise\n",
    "\n",
    "# Load the scaler using pickle\n",
    "try:\n",
    "    with open(local_scaler_path, \"rb\") as f:\n",
    "        scaler = pickle.load(f)\n",
    "    print(\"Scaler loaded successfully.\")\n",
    "except Exception as e:\n",
    "    print(f\"Error loading scaler: {e}\")\n",
    "    raise\n",
    "\n",
    "# Now you can use your model and scaler\n",
    "# For example:\n",
    "# predictions = model.predict(scaler.transform(your_input_data))\n"
   ],
   "id": "398107f31c25768f",
   "outputs": [
    {
     "name": "stdout",
     "output_type": "stream",
     "text": [
      "Downloaded model to lstm_model.keras\n",
      "Downloaded scaler to scaler.pkl\n",
      "Model loaded successfully.\n",
      "Scaler loaded successfully.\n"
     ]
    }
   ],
   "execution_count": 7
  }
 ],
 "metadata": {
  "kernelspec": {
   "display_name": "Python 3",
   "language": "python",
   "name": "python3"
  },
  "language_info": {
   "codemirror_mode": {
    "name": "ipython",
    "version": 2
   },
   "file_extension": ".py",
   "mimetype": "text/x-python",
   "name": "python",
   "nbconvert_exporter": "python",
   "pygments_lexer": "ipython2",
   "version": "2.7.6"
  }
 },
 "nbformat": 4,
 "nbformat_minor": 5
}
